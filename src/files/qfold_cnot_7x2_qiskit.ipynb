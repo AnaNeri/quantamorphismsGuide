{
 "cells": [
  {
   "cell_type": "markdown",
   "metadata": {},
   "source": [
    "# Qfold cnot 7x2 Qiskit"
   ]
  },
  {
   "cell_type": "markdown",
   "metadata": {},
   "source": [
    "<a id = 'index'></a>"
   ]
  },
  {
   "cell_type": "markdown",
   "metadata": {},
   "source": [
    "* **Step 1.** - [Initial setup](#set)\n",
    "\n",
    "* **Step 2.** - [Defining the circuit](#nc)\n",
    "\n",
    "* **Step 3.** - [Optimizing the circuit](#op)\n",
    "\n",
    "* **Step 4.** - [Running in real device and data treatment](#real)\n",
    "\n",
    "* **Step 5.** - [Tests with different inputs](#oin)"
   ]
  },
  {
   "cell_type": "markdown",
   "metadata": {},
   "source": [
    "<a id = 'set'></a>\n",
    "\n",
    "## Initial Setup\n",
    "\n",
    "To achieve results comparable to the ones present in paper *Compiling quantamorphisms for the IBM Q-Experience*, ensure the application of the correct imports and versions. "
   ]
  },
  {
   "cell_type": "code",
   "execution_count": null,
   "metadata": {},
   "outputs": [],
   "source": [
    "import qiskit\n",
    "import qiskit.tools.jupyter\n",
    "%qiskit_version_table"
   ]
  },
  {
   "cell_type": "code",
   "execution_count": null,
   "metadata": {},
   "outputs": [],
   "source": [
    "# Useful additional packages \n",
    "import matplotlib.pyplot as plt\n",
    "%matplotlib inline\n",
    "import numpy as np\n",
    "from math import pi"
   ]
  },
  {
   "cell_type": "code",
   "execution_count": null,
   "metadata": {},
   "outputs": [],
   "source": [
    "# these imports are essential since the new circuit section\n",
    "from qiskit import QuantumCircuit, ClassicalRegister, QuantumRegister, execute"
   ]
  },
  {
   "cell_type": "code",
   "execution_count": null,
   "metadata": {},
   "outputs": [],
   "source": [
    "# this import is essential since the simulation section\n",
    "from qiskit import Aer"
   ]
  },
  {
   "cell_type": "code",
   "execution_count": null,
   "metadata": {},
   "outputs": [],
   "source": [
    "# these imports are essential since the optimization section\n",
    "from qiskit import IBMQ\n",
    "from qiskit.tools.monitor import backend_monitor, backend_overview\n",
    "from qiskit.compiler import transpile"
   ]
  },
  {
   "cell_type": "code",
   "execution_count": null,
   "metadata": {},
   "outputs": [],
   "source": [
    "# this import is essential since run in real device section\n",
    "from qiskit.tools.visualization import plot_histogram"
   ]
  },
  {
   "cell_type": "code",
   "execution_count": null,
   "metadata": {},
   "outputs": [],
   "source": [
    "# this is essential in the PyZX section\n",
    "import pyzx as zx"
   ]
  },
  {
   "cell_type": "code",
   "execution_count": null,
   "metadata": {},
   "outputs": [],
   "source": [
    "# this is essential in the ignis section\n",
    "from qiskit.ignis.mitigation.measurement import ( complete_meas_cal, CompleteMeasFitter, MeasurementFilter )"
   ]
  },
  {
   "cell_type": "markdown",
   "metadata": {},
   "source": [
    "#### Important/Useful functions "
   ]
  },
  {
   "cell_type": "code",
   "execution_count": null,
   "metadata": {},
   "outputs": [],
   "source": [
    "def circuit_inf(quantum_circuit):\n",
    "    circuit_information={}\n",
    "    \n",
    "    # total number of operations in the circuit. no unrolling is done.\n",
    "    circuit_size = quantum_circuit.size()\n",
    "    circuit_information['size']=circuit_size\n",
    "    \n",
    "    # depth of circuit (number of ops on the critical path)\n",
    "    circuit_depth = quantum_circuit.depth()\n",
    "    circuit_information['depth']=circuit_depth\n",
    "    \n",
    "    # number of unentangled subcircuits in this circuit.\n",
    "    # each subcircuit can in principle be executed on a different quantum processor!\n",
    "    circuit_tensor = quantum_circuit.num_tensor_factors()\n",
    "    circuit_information['tensor factors']= circuit_tensor\n",
    "    \n",
    "    # a breakdown of operations by type\n",
    "    circuit_count = quantum_circuit.count_ops()\n",
    "    circuit_information['operations']=circuit_count\n",
    "    return circuit_information"
   ]
  },
  {
   "cell_type": "code",
   "execution_count": null,
   "metadata": {},
   "outputs": [],
   "source": [
    "def running_circuit(circuit, backend, shots=1024):\n",
    "    job_run = execute(circuit, backend, shots=shots)\n",
    "    jobID_run = job_run.job_id()\n",
    "\n",
    "    result_run = job_run.result()\n",
    "    counts_run = result_run.get_counts(circuit)\n",
    "    \n",
    "    return jobID_run, counts_run"
   ]
  },
  {
   "cell_type": "code",
   "execution_count": null,
   "metadata": {},
   "outputs": [],
   "source": [
    "def sum_the_target_0(counts_raw):\n",
    "    k=counts_raw.keys()\n",
    "    sum_counts_ok=sum_counts_bad=0\n",
    "    lk=list(k)\n",
    "    for x in lk:\n",
    "        if x[3]=='0':\n",
    "            sum_counts_ok=sum_counts_ok+counts_raw.get(x)\n",
    "        else:\n",
    "            sum_counts_bad=sum_counts_bad+counts_raw.get(x)\n",
    "    return {'good': sum_counts_ok, 'bad': sum_counts_bad}\n",
    "\n",
    "def sum_right(target, counts_raw):\n",
    "    s = sum_the_target_0(counts_raw)\n",
    "    if target==1:\n",
    "        s['good_temp'] = s.pop('good')\n",
    "        s['good']= s.pop('bad')\n",
    "        s['bad']= s.pop('good_temp')\n",
    "        \n",
    "    return s"
   ]
  },
  {
   "cell_type": "markdown",
   "metadata": {},
   "source": [
    "[back to top](#index)"
   ]
  },
  {
   "cell_type": "markdown",
   "metadata": {},
   "source": [
    "<a id = 'nc'></a>\n",
    "\n",
    "## New Circuit\n",
    "\n",
    "\n",
    "Recall that the output of Quipper language goes thought the translator in quipperToQiskit. In this format, it is possible to define the circuit easily. \n",
    "\n",
    "Moreover, it is essential to simulate the experiment to see what are the ideal outputs. "
   ]
  },
  {
   "cell_type": "markdown",
   "metadata": {},
   "source": [
    "Qiskit swaps the least and the most significant qubits. Therefore, to keep conformity, there was a rearrangement of the least and most significant qubits. \n",
    "\n",
    "In other words, \n",
    "* qubit 0 is now qubit 4\n",
    "* qubit 1 is now qubit 3\n",
    "* qubit 2 holds\n",
    "* qubit 3 is not qubut 1\n",
    "* and qubit 4 is now qubit 0\n"
   ]
  },
  {
   "cell_type": "code",
   "execution_count": null,
   "metadata": {},
   "outputs": [],
   "source": [
    "# number of qubits\n",
    "n = 5\n",
    "# create quantum register named 'qr'\n",
    "qr = QuantumRegister(n, 'qr')\n",
    "# create classical register named 'cr'\n",
    "cr = ClassicalRegister(n, 'cr')"
   ]
  },
  {
   "cell_type": "code",
   "execution_count": null,
   "metadata": {},
   "outputs": [],
   "source": [
    "#create quantum circuit\n",
    "qc= QuantumCircuit(qr,cr)"
   ]
  },
  {
   "cell_type": "markdown",
   "metadata": {},
   "source": [
    "Go to the document `circuit_cnot_7x2_qiskit.txt`, select all the unitary gates, and copy to the following cell. "
   ]
  },
  {
   "cell_type": "code",
   "execution_count": null,
   "metadata": {},
   "outputs": [],
   "source": []
  },
  {
   "cell_type": "code",
   "execution_count": null,
   "metadata": {
    "scrolled": true
   },
   "outputs": [],
   "source": [
    "qc.draw(output='mpl', scale=0.5)"
   ]
  },
  {
   "cell_type": "code",
   "execution_count": null,
   "metadata": {},
   "outputs": [],
   "source": [
    "circuit_inf(qc)"
   ]
  },
  {
   "cell_type": "markdown",
   "metadata": {},
   "source": [
    "### Simulation"
   ]
  },
  {
   "cell_type": "markdown",
   "metadata": {},
   "source": [
    "This simulation can run with Aer or BasicAer. "
   ]
  },
  {
   "cell_type": "code",
   "execution_count": null,
   "metadata": {},
   "outputs": [],
   "source": [
    "# add measure gates\n",
    "m4 = QuantumCircuit(qr, cr)\n",
    "\n",
    "m4.measure(qr[4],cr[4])\n",
    "m4.measure(qr[1],cr[1])\n",
    "m4.measure(qr[2],cr[2])\n",
    "m4.measure(qr[3],cr[3])\n",
    "\n",
    "m4.draw(output='mpl')"
   ]
  },
  {
   "cell_type": "code",
   "execution_count": null,
   "metadata": {
    "scrolled": true
   },
   "outputs": [],
   "source": [
    "qc_m = qc + m4\n",
    "\n",
    "qc_m.draw(output='mpl')"
   ]
  },
  {
   "cell_type": "code",
   "execution_count": null,
   "metadata": {},
   "outputs": [],
   "source": [
    "circuit_inf(qc_m)"
   ]
  },
  {
   "cell_type": "code",
   "execution_count": null,
   "metadata": {},
   "outputs": [],
   "source": [
    "# Use Aer's qasm_simulator\n",
    "backend_sim = Aer.get_backend('qasm_simulator')\n",
    "\n",
    "# Execute the circuit on the qasm simulator.\n",
    "# We've set the number of repeats of the circuit\n",
    "# to be 1024, which is the default.\n",
    "job_sim = execute(qc_m, backend_sim, shots=1024)\n",
    "\n",
    "# Grab the results from the job.\n",
    "result_sim = job_sim.result()"
   ]
  },
  {
   "cell_type": "code",
   "execution_count": null,
   "metadata": {},
   "outputs": [],
   "source": [
    "counts_sim = result_sim.get_counts(qc_m)"
   ]
  },
  {
   "cell_type": "code",
   "execution_count": null,
   "metadata": {},
   "outputs": [],
   "source": [
    "print(counts_sim)"
   ]
  },
  {
   "cell_type": "markdown",
   "metadata": {},
   "source": [
    "[back to top](#index)"
   ]
  },
  {
   "cell_type": "markdown",
   "metadata": {},
   "source": [
    "<a id = 'op'></a>\n",
    "\n",
    "## Optimizing the circuit\n",
    "\n",
    "\n",
    "The considerable volume of the circuit displayed points to its optimization. \n"
   ]
  },
  {
   "cell_type": "code",
   "execution_count": null,
   "metadata": {},
   "outputs": [],
   "source": [
    "# https://qiskit.org/documentation/install.html#access-ibm-quantum-systems\n",
    "#\n",
    "#provider = IBMQ.save_account('token')\n",
    "\n",
    "provider = IBMQ.load_account()"
   ]
  },
  {
   "cell_type": "code",
   "execution_count": null,
   "metadata": {},
   "outputs": [],
   "source": [
    "my_providers=IBMQ.providers()\n",
    "print(my_providers)"
   ]
  },
  {
   "cell_type": "code",
   "execution_count": null,
   "metadata": {},
   "outputs": [],
   "source": [
    "#  you may not have this access\n",
    "my_provider_academic = IBMQ.get_provider(hub='my_hub', group='my_group', project='my_project')\n",
    "\n",
    "my_provider_academic.backends()"
   ]
  },
  {
   "cell_type": "code",
   "execution_count": null,
   "metadata": {},
   "outputs": [],
   "source": [
    "my_provider_ibmq = IBMQ.get_provider(hub='ibm-q', group='open', project='main') \n",
    "\n",
    "my_provider_ibmq.backends()"
   ]
  },
  {
   "cell_type": "code",
   "execution_count": null,
   "metadata": {
    "scrolled": true
   },
   "outputs": [],
   "source": [
    "%qiskit_backend_overview"
   ]
  },
  {
   "cell_type": "code",
   "execution_count": null,
   "metadata": {},
   "outputs": [],
   "source": [
    "backend_overview()"
   ]
  },
  {
   "cell_type": "markdown",
   "metadata": {},
   "source": [
    "**Boebligen** - choosen because has hight T2 comparing to the others. "
   ]
  },
  {
   "cell_type": "code",
   "execution_count": null,
   "metadata": {},
   "outputs": [],
   "source": [
    "backend = my_provider_academic.get_backend('ibmq_boeblingen')"
   ]
  },
  {
   "cell_type": "code",
   "execution_count": null,
   "metadata": {},
   "outputs": [],
   "source": [
    "qc_sim = transpile(qc_m, backend=backend)"
   ]
  },
  {
   "cell_type": "code",
   "execution_count": null,
   "metadata": {
    "scrolled": true
   },
   "outputs": [],
   "source": [
    "qc_sim.draw(output='mpl')"
   ]
  },
  {
   "cell_type": "code",
   "execution_count": null,
   "metadata": {},
   "outputs": [],
   "source": [
    "circuit_inf(qc_sim)"
   ]
  },
  {
   "cell_type": "code",
   "execution_count": null,
   "metadata": {},
   "outputs": [],
   "source": [
    "backend_monitor(backend)"
   ]
  },
  {
   "cell_type": "markdown",
   "metadata": {},
   "source": [
    "### IBM Q Transpiler\n",
    "\n",
    "One trivial approach is to apply the IBM Q transpiler. "
   ]
  },
  {
   "cell_type": "code",
   "execution_count": null,
   "metadata": {},
   "outputs": [],
   "source": [
    "optimized_0 = transpile(qc_m, backend=backend, optimization_level=0)\n",
    "circuit_inf(optimized_0)"
   ]
  },
  {
   "cell_type": "code",
   "execution_count": null,
   "metadata": {},
   "outputs": [],
   "source": [
    "optimized_1 = transpile(qc_m, backend=backend, optimization_level=1)\n",
    "circuit_inf(optimized_1)"
   ]
  },
  {
   "cell_type": "code",
   "execution_count": null,
   "metadata": {},
   "outputs": [],
   "source": [
    "optimized_2 = transpile(qc_m, backend=backend, optimization_level=2)\n",
    "circuit_inf(optimized_2)"
   ]
  },
  {
   "cell_type": "code",
   "execution_count": null,
   "metadata": {},
   "outputs": [],
   "source": [
    "optimized_3 = transpile(qc_m, backend=backend, optimization_level=3)\n",
    "circuit_inf(optimized_3)"
   ]
  },
  {
   "cell_type": "markdown",
   "metadata": {},
   "source": [
    "<div class=\"alert alert-block alert-info\">\n",
    "try with optimization 2 and 3\n",
    "\n",
    "<p>2 has less depth.</p>\n",
    "\n",
    "<p>3 has less cnot.</p>\n",
    "</div>"
   ]
  },
  {
   "cell_type": "markdown",
   "metadata": {},
   "source": [
    "### PyZX"
   ]
  },
  {
   "cell_type": "markdown",
   "metadata": {},
   "source": [
    "Since this optimization was insufficient, the circuit ended rewritten with PyZX. "
   ]
  },
  {
   "cell_type": "code",
   "execution_count": null,
   "metadata": {},
   "outputs": [],
   "source": [
    "my_qc = zx.Circuit.from_quipper_file(\"circuit_cnot_7x2_quipper_A.txt\")\n",
    "\n",
    "zx.draw(my_qc)"
   ]
  },
  {
   "cell_type": "code",
   "execution_count": null,
   "metadata": {},
   "outputs": [],
   "source": [
    "print(my_qc.gates)"
   ]
  },
  {
   "cell_type": "code",
   "execution_count": null,
   "metadata": {},
   "outputs": [],
   "source": [
    "print(my_qc.stats())"
   ]
  },
  {
   "cell_type": "code",
   "execution_count": null,
   "metadata": {},
   "outputs": [],
   "source": [
    "mg = my_qc.to_graph()\n",
    "print(mg)"
   ]
  },
  {
   "cell_type": "code",
   "execution_count": null,
   "metadata": {},
   "outputs": [],
   "source": [
    "zx.simplify.full_reduce(mg)\n",
    "zx.draw(mg)"
   ]
  },
  {
   "cell_type": "code",
   "execution_count": null,
   "metadata": {},
   "outputs": [],
   "source": [
    "print(mg)"
   ]
  },
  {
   "cell_type": "code",
   "execution_count": null,
   "metadata": {},
   "outputs": [],
   "source": [
    "mg.normalise()\n",
    "zx.draw(mg)"
   ]
  },
  {
   "cell_type": "code",
   "execution_count": null,
   "metadata": {},
   "outputs": [],
   "source": [
    "print(mg)"
   ]
  },
  {
   "cell_type": "code",
   "execution_count": null,
   "metadata": {},
   "outputs": [],
   "source": [
    "mc = zx.extract.streaming_extract(mg.copy(), True)\n",
    "zx.draw(mc)"
   ]
  },
  {
   "cell_type": "code",
   "execution_count": null,
   "metadata": {},
   "outputs": [],
   "source": [
    "print(mc)"
   ]
  },
  {
   "cell_type": "code",
   "execution_count": null,
   "metadata": {},
   "outputs": [],
   "source": [
    "# Turn graph back into circuit\n",
    "mc2 = zx.extract.streaming_extract(mg).to_basic_gates()"
   ]
  },
  {
   "cell_type": "code",
   "execution_count": null,
   "metadata": {},
   "outputs": [],
   "source": [
    "print(mc2.stats())"
   ]
  },
  {
   "cell_type": "code",
   "execution_count": null,
   "metadata": {},
   "outputs": [],
   "source": [
    "mc3 = zx.optimize.full_optimize(mc2)\n",
    "print(mc3.stats())"
   ]
  },
  {
   "cell_type": "code",
   "execution_count": null,
   "metadata": {
    "scrolled": true
   },
   "outputs": [],
   "source": [
    "print(mc3.to_quipper())"
   ]
  },
  {
   "cell_type": "code",
   "execution_count": null,
   "metadata": {},
   "outputs": [],
   "source": [
    "f = open(\"quipper_pyzx.txt\", \"w\")\n",
    "f.write(mc3.to_quipper())\n",
    "f.close()"
   ]
  },
  {
   "cell_type": "markdown",
   "metadata": {},
   "source": [
    "* Open the `quipperToQiskit.gawk` file; \n",
    "* In line 2 change \"qc\" to \"qc_pyzx\";\n",
    "* Save;\n",
    "* Run the command line:\n",
    "```\n",
    "awk -f quipperToQiskit.gawk circuit_cnot_7x2_quipper_A.txt > circuit_cnot_7x2_qiskit_pyzx.txt \n",
    "```"
   ]
  },
  {
   "cell_type": "code",
   "execution_count": null,
   "metadata": {},
   "outputs": [],
   "source": [
    "qc_pyzx = QuantumCircuit(qr, cr)"
   ]
  },
  {
   "cell_type": "markdown",
   "metadata": {},
   "source": [
    "Go to the document `circuit_cnot_7x2_qiskit_pyzx.txt`, select all the unitary gates, and copy to the following cell. "
   ]
  },
  {
   "cell_type": "code",
   "execution_count": null,
   "metadata": {},
   "outputs": [],
   "source": []
  },
  {
   "cell_type": "code",
   "execution_count": null,
   "metadata": {},
   "outputs": [],
   "source": [
    "qc_pyzx.draw(output='mpl')"
   ]
  },
  {
   "cell_type": "code",
   "execution_count": null,
   "metadata": {},
   "outputs": [],
   "source": [
    "circuit_inf(qc_pyzx)"
   ]
  },
  {
   "cell_type": "code",
   "execution_count": null,
   "metadata": {},
   "outputs": [],
   "source": [
    "qc_pyzx = qc_pyzx+m4"
   ]
  },
  {
   "cell_type": "code",
   "execution_count": null,
   "metadata": {},
   "outputs": [],
   "source": [
    "id_temp, counts_pyzx_sim = running_circuit(qc_pyzx, backend_sim)\n",
    "print(counts_pyzx_sim)"
   ]
  },
  {
   "cell_type": "code",
   "execution_count": null,
   "metadata": {},
   "outputs": [],
   "source": [
    "qc_sim_pyzx = transpile(qc_pyzx, backend=backend)"
   ]
  },
  {
   "cell_type": "code",
   "execution_count": null,
   "metadata": {},
   "outputs": [],
   "source": [
    "circuit_inf(qc_sim_pyzx)"
   ]
  },
  {
   "cell_type": "code",
   "execution_count": null,
   "metadata": {},
   "outputs": [],
   "source": [
    "qc_pyzx_o2 = transpile(qc_pyzx, backend=backend, optimization_level=2)\n",
    "circuit_inf(qc_pyzx_o2)"
   ]
  },
  {
   "cell_type": "code",
   "execution_count": null,
   "metadata": {},
   "outputs": [],
   "source": [
    "qc_pyzx_o3 = transpile(qc_pyzx, backend=backend, optimization_level=3)\n",
    "circuit_inf(qc_pyzx_o3)"
   ]
  },
  {
   "cell_type": "markdown",
   "metadata": {},
   "source": [
    "[back to top](#index)"
   ]
  },
  {
   "cell_type": "markdown",
   "metadata": {},
   "source": [
    "<a id='real'> </a>\n",
    "\n",
    "## Running in the real device and data treatment\n",
    "\n",
    "\n",
    "After reaching optimization, the IBM Q Experience Ignis module ensures the filtration of the results. \n",
    "\n",
    "Furthermore, the target as the most relevant qubit in the program leads to analyzing only the target result. "
   ]
  },
  {
   "cell_type": "code",
   "execution_count": null,
   "metadata": {},
   "outputs": [],
   "source": [
    "%qiskit_job_watcher"
   ]
  },
  {
   "cell_type": "code",
   "execution_count": null,
   "metadata": {},
   "outputs": [],
   "source": [
    "shots=1024"
   ]
  },
  {
   "cell_type": "markdown",
   "metadata": {},
   "source": [
    "Save the job Id value to recover the job information later."
   ]
  },
  {
   "cell_type": "code",
   "execution_count": null,
   "metadata": {},
   "outputs": [],
   "source": [
    "id_run, counts_dev = running_circuit(qc_m, backend, shots)\n",
    "print(id_run)"
   ]
  },
  {
   "cell_type": "code",
   "execution_count": null,
   "metadata": {},
   "outputs": [],
   "source": [
    "#id_run=''\n",
    "job = backend.retrieve_job(id_run)\n",
    "result_run= job.result()\n",
    "counts_dev= result_run.get_counts()\n",
    "\n",
    "print(counts_dev)"
   ]
  },
  {
   "cell_type": "code",
   "execution_count": null,
   "metadata": {},
   "outputs": [],
   "source": [
    "id_opt2, counts_opt2 = running_circuit(optimized_2, backend, shots)\n",
    "print(id_opt2)"
   ]
  },
  {
   "cell_type": "code",
   "execution_count": null,
   "metadata": {},
   "outputs": [],
   "source": [
    "#id_opt2=''\n",
    "job = backend.retrieve_job(id_opt2)\n",
    "result_opt2= job.result()\n",
    "counts_opt2= result_opt2.get_counts()\n",
    "\n",
    "print(counts_opt2)"
   ]
  },
  {
   "cell_type": "code",
   "execution_count": null,
   "metadata": {},
   "outputs": [],
   "source": [
    "id_opt3, counts_opt3 = running_circuit(optimized_3, backend, shots)\n",
    "print(id_opt3)"
   ]
  },
  {
   "cell_type": "code",
   "execution_count": null,
   "metadata": {},
   "outputs": [],
   "source": [
    "#id_opt3=''\n",
    "job = backend.retrieve_job(id_opt3)\n",
    "result_opt3= job.result()\n",
    "counts_opt3= result_opt3.get_counts()\n",
    "\n",
    "print(counts_opt3)"
   ]
  },
  {
   "cell_type": "code",
   "execution_count": null,
   "metadata": {},
   "outputs": [],
   "source": [
    "id_pyzx, counts_pyzx = running_circuit(qc_pyzx, backend, shots)\n",
    "print(id_pyzx, counts_pyzx)"
   ]
  },
  {
   "cell_type": "code",
   "execution_count": null,
   "metadata": {},
   "outputs": [],
   "source": [
    "#id_pyzx=''\n",
    "job = backend.retrieve_job(id_pyzx)\n",
    "result_pyzx= job.result()\n",
    "counts_pyzx= result_pyzx.get_counts()\n",
    "\n",
    "print(counts_pyzx)"
   ]
  },
  {
   "cell_type": "code",
   "execution_count": null,
   "metadata": {},
   "outputs": [],
   "source": [
    "id_pyzx_2, counts_pyzx_2 = running_circuit(qc_pyzx_o2, backend)\n",
    "print(id_pyzx_2)"
   ]
  },
  {
   "cell_type": "code",
   "execution_count": null,
   "metadata": {},
   "outputs": [],
   "source": [
    "#id_pyzx_2=''\n",
    "job = backend.retrieve_job(id_pyzx_2)\n",
    "result_pyzx_2= job.result()\n",
    "counts_pyzx_2= result_pyzx_2.get_counts()\n",
    "\n",
    "print(counts_pyzx_2)"
   ]
  },
  {
   "cell_type": "code",
   "execution_count": null,
   "metadata": {},
   "outputs": [],
   "source": [
    "id_pyzx_3, counts_pyzx_3 = running_circuit(qc_pyzx_o3, backend)\n",
    "print(id_pyzx_3)"
   ]
  },
  {
   "cell_type": "code",
   "execution_count": null,
   "metadata": {},
   "outputs": [],
   "source": [
    "#id_pyzx_3=''\n",
    "job = backend.retrieve_job(id_pyzx_3)\n",
    "result_pyzx_3= job.result()\n",
    "counts_pyzx_3= result_pyzx_3.get_counts()\n",
    "\n",
    "print(counts_pyzx_3)"
   ]
  },
  {
   "cell_type": "code",
   "execution_count": null,
   "metadata": {},
   "outputs": [],
   "source": [
    "leg = ['simulation', 'run in real device', 'transpiler with optimization 2', 'traspiler with optimization 3', 'optimization with compiler PyZX', 'optimization with compiler PyZX and 2', 'optimization with compiler PyZX and 3']\n",
    "colors = ['#061727', '#003a6d', '#00539a', '#1192e8','#33b1ff','#82cfff','#e5f6ff']\n",
    "plot_histogram([counts_sim, counts_dev,counts_opt2,counts_opt3,counts_pyzx,counts_pyzx_2,counts_pyzx_3], number_to_keep = 1, color=colors, legend = leg, figsize=(11, 5))"
   ]
  },
  {
   "cell_type": "markdown",
   "metadata": {},
   "source": [
    "### Ignis"
   ]
  },
  {
   "cell_type": "code",
   "execution_count": null,
   "metadata": {},
   "outputs": [],
   "source": [
    "# Generate the calibration circuits\n",
    "qr_ignis = QuantumRegister(5)\n",
    "meas_calibs, state_labels = complete_meas_cal(qubit_list=[0,1,2,3,4], qr=qr_ignis, circlabel='mcal')"
   ]
  },
  {
   "cell_type": "code",
   "execution_count": null,
   "metadata": {},
   "outputs": [],
   "source": [
    "job_ignis = execute(meas_calibs, backend=backend)\n",
    "cal_results = job_ignis.result()\n",
    "\n",
    "jobID_run_ignis = job_ignis.job_id()\n",
    "print('JOB ID: {}'.format(jobID_run_ignis))"
   ]
  },
  {
   "cell_type": "code",
   "execution_count": null,
   "metadata": {},
   "outputs": [],
   "source": [
    "#id_ignis=''\n",
    "job_ignis = backend.retrieve_job(id_ignis)\n",
    "cal_results= job_ignis.result()"
   ]
  },
  {
   "cell_type": "code",
   "execution_count": null,
   "metadata": {},
   "outputs": [],
   "source": [
    "meas_fitter = CompleteMeasFitter(cal_results, state_labels, circlabel='mcal')\n",
    "# Plot the calibration matrix\n",
    "meas_fitter.plot_calibration()"
   ]
  },
  {
   "cell_type": "code",
   "execution_count": null,
   "metadata": {},
   "outputs": [],
   "source": [
    "# What is the measurement fidelity?\n",
    "print(\"Average Measurement Fidelity: %f\" % meas_fitter.readout_fidelity())"
   ]
  },
  {
   "cell_type": "code",
   "execution_count": null,
   "metadata": {},
   "outputs": [],
   "source": [
    "# Get the filter object\n",
    "meas_filter = meas_fitter.filter"
   ]
  },
  {
   "cell_type": "code",
   "execution_count": null,
   "metadata": {},
   "outputs": [],
   "source": [
    "job_pyzx_3 = backend.retrieve_job(id_pyzx_3)\n",
    "result_pyzx_3= job_pyzx_3.result()"
   ]
  },
  {
   "cell_type": "code",
   "execution_count": null,
   "metadata": {},
   "outputs": [],
   "source": [
    "mitigated_results_py3 = meas_filter.apply(result_pyzx_3)\n",
    "mitigated_counts_py3 = mitigated_results_py3.get_counts(0)"
   ]
  },
  {
   "cell_type": "code",
   "execution_count": null,
   "metadata": {},
   "outputs": [],
   "source": [
    "print(mitigated_counts_py3)"
   ]
  },
  {
   "cell_type": "code",
   "execution_count": null,
   "metadata": {},
   "outputs": [],
   "source": [
    "leg = ['simulation', 'run in real device', 'optimization with compiler PyZX and 3', 'mittigation']\n",
    "colors = ['#061727', '#003a6d', '#82cfff','#e5f6ff']\n",
    "plot_histogram([counts_sim, counts_dev,counts_pyzx, mitigated_counts_py3], number_to_keep = 1, color=colors, legend = leg, figsize=(11, 5))"
   ]
  },
  {
   "cell_type": "markdown",
   "metadata": {},
   "source": [
    "### Find just the ones where the target qubit holds |0>"
   ]
  },
  {
   "cell_type": "code",
   "execution_count": null,
   "metadata": {},
   "outputs": [],
   "source": [
    "counts_sim_0 = sum_right(0, counts_sim)\n",
    "print(counts_sim_0)"
   ]
  },
  {
   "cell_type": "code",
   "execution_count": null,
   "metadata": {},
   "outputs": [],
   "source": [
    "counts_dev_0 = sum_right(0, counts_dev)\n",
    "print(counts_dev_0)"
   ]
  },
  {
   "cell_type": "code",
   "execution_count": null,
   "metadata": {},
   "outputs": [],
   "source": [
    "counts_opt2_0 = sum_right(0, counts_opt2)\n",
    "print(counts_opt2_0)"
   ]
  },
  {
   "cell_type": "code",
   "execution_count": null,
   "metadata": {},
   "outputs": [],
   "source": [
    "counts_opt3_0 = sum_right(0, counts_opt3)\n",
    "print(counts_opt3_0)"
   ]
  },
  {
   "cell_type": "code",
   "execution_count": null,
   "metadata": {},
   "outputs": [],
   "source": [
    "counts_pyzx_0 = sum_right(0, counts_pyzx)\n",
    "print(counts_pyzx_0)"
   ]
  },
  {
   "cell_type": "code",
   "execution_count": null,
   "metadata": {},
   "outputs": [],
   "source": [
    "counts_pyzx2_0 = sum_right(0, counts_pyzx_2)\n",
    "print(counts_pyzx2_0)"
   ]
  },
  {
   "cell_type": "code",
   "execution_count": null,
   "metadata": {},
   "outputs": [],
   "source": [
    "counts_pyzx3_0 = sum_right(0, counts_pyzx_3)\n",
    "print(counts_pyzx3_0)"
   ]
  },
  {
   "cell_type": "code",
   "execution_count": null,
   "metadata": {},
   "outputs": [],
   "source": [
    "mitigated_counts_0= sum_right(0, mitigated_counts_py3)\n",
    "print(mitigated_counts_0)"
   ]
  },
  {
   "cell_type": "code",
   "execution_count": null,
   "metadata": {
    "scrolled": true
   },
   "outputs": [],
   "source": [
    "leg = ['simulation', 'run in real device', 'optimization with compiler PyZX and 3 and mittigation']\n",
    "colors = ['#061727', '#003a6d', '#1192e8']\n",
    "plot_histogram([counts_sim_0, counts_dev_0, mitigated_counts_0], title='input=|0000>', color=colors, legend = leg, figsize=(5, 5))"
   ]
  },
  {
   "cell_type": "markdown",
   "metadata": {},
   "source": [
    "[back to top](#index)"
   ]
  },
  {
   "cell_type": "markdown",
   "metadata": {},
   "source": [
    "<a id = 'oin'></a>\n",
    "\n",
    "## Tests with different inputs\n",
    "\n",
    "To obtain a faithful experience, tests with different inputs are essential."
   ]
  },
  {
   "cell_type": "markdown",
   "metadata": {},
   "source": [
    "When the controls are |101> the target should change (the initial target value is |1>)"
   ]
  },
  {
   "cell_type": "code",
   "execution_count": null,
   "metadata": {},
   "outputs": [],
   "source": [
    "qc_init_1011 = QuantumCircuit(qr,cr)"
   ]
  },
  {
   "cell_type": "code",
   "execution_count": null,
   "metadata": {},
   "outputs": [],
   "source": [
    "qc_init_1011.x(qr[2])\n",
    "qc_init_1011.x(qr[4])\n",
    "qc_init_1011.x(qr[1])\n",
    "\n",
    "\n",
    "qc_init_1011.draw(output='mpl')"
   ]
  },
  {
   "cell_type": "code",
   "execution_count": null,
   "metadata": {},
   "outputs": [],
   "source": [
    "qc_1011 = qc_init_1011 + qc_m\n",
    "\n",
    "qc_1011.draw(output='mpl')"
   ]
  },
  {
   "cell_type": "code",
   "execution_count": null,
   "metadata": {},
   "outputs": [],
   "source": [
    "qc_1011_pyzx = qc_init_1011 + qc_pyzx\n",
    "\n",
    "qc_1011_pyzx.draw(output='mpl')"
   ]
  },
  {
   "cell_type": "code",
   "execution_count": null,
   "metadata": {},
   "outputs": [],
   "source": [
    "id_temp, counts_sim_1011 = running_circuit(qc_1011, backend_sim)\n",
    "print(counts_sim_1011)"
   ]
  },
  {
   "cell_type": "code",
   "execution_count": null,
   "metadata": {},
   "outputs": [],
   "source": [
    "id_temp, counts_sim_1011_p = running_circuit(qc_1011_pyzx, backend_sim)\n",
    "print(counts_sim_1011_p)"
   ]
  },
  {
   "cell_type": "code",
   "execution_count": null,
   "metadata": {},
   "outputs": [],
   "source": [
    "id_run_1011, counts_dev_1011 = running_circuit(qc_1011, backend)\n",
    "print(id_run_1011)"
   ]
  },
  {
   "cell_type": "code",
   "execution_count": null,
   "metadata": {},
   "outputs": [],
   "source": [
    "#id_run_1011=''\n",
    "job = backend.retrieve_job(id_run_1011)\n",
    "result_run_1011= job.result()\n",
    "counts_dev_1011= result_run_1011.get_counts()\n",
    "\n",
    "print(counts_dev_1011)"
   ]
  },
  {
   "cell_type": "code",
   "execution_count": null,
   "metadata": {},
   "outputs": [],
   "source": [
    "id_pyzx_1011, counts_pyzx_1011 = running_circuit(qc_1011_pyzx, backend)\n",
    "print(id_pyzx_1011)"
   ]
  },
  {
   "cell_type": "code",
   "execution_count": null,
   "metadata": {},
   "outputs": [],
   "source": [
    "#id_pyzx_1011=''\n",
    "job = backend.retrieve_job(id_pyzx_1011)\n",
    "result_pyzx_1011= job.result()\n",
    "counts_pyzx_1011= result_pyzx_1011.get_counts()\n",
    "\n",
    "print(counts_pyzx_1011)"
   ]
  },
  {
   "cell_type": "code",
   "execution_count": null,
   "metadata": {},
   "outputs": [],
   "source": [
    "qc_pyzx_o3_1011 = transpile(qc_1011_pyzx, backend=backend, optimization_level=3)"
   ]
  },
  {
   "cell_type": "code",
   "execution_count": null,
   "metadata": {},
   "outputs": [],
   "source": [
    "id_temp, counts_sim_1011_p3 = running_circuit(qc_pyzx_o3_1011, backend_sim)\n",
    "print(counts_sim_1011_p3)"
   ]
  },
  {
   "cell_type": "code",
   "execution_count": null,
   "metadata": {},
   "outputs": [],
   "source": [
    "id_pyzx3_1011, counts_pyzx3_1011 = running_circuit(qc_pyzx_o3_1011, backend)\n",
    "print(id_pyzx3_1011)"
   ]
  },
  {
   "cell_type": "code",
   "execution_count": null,
   "metadata": {},
   "outputs": [],
   "source": [
    "#id_pyzx3_1011=''\n",
    "job = backend.retrieve_job(id_pyzx3_1011)\n",
    "result_pyzx3_1011= job.result()\n",
    "counts_pyzx3_1011= result_pyzx3_1011.get_counts()\n",
    "\n",
    "print(counts_pyzx3_1011)"
   ]
  },
  {
   "cell_type": "code",
   "execution_count": null,
   "metadata": {},
   "outputs": [],
   "source": [
    "qc_pyzx_o2_1011 = transpile(qc_1011_pyzx, backend=backend, optimization_level=2)"
   ]
  },
  {
   "cell_type": "code",
   "execution_count": null,
   "metadata": {},
   "outputs": [],
   "source": [
    "id_temp, counts_sim_1011_p2 = running_circuit(qc_pyzx_o2_1011, backend_sim)\n",
    "print(counts_sim_1011_p2)"
   ]
  },
  {
   "cell_type": "code",
   "execution_count": null,
   "metadata": {},
   "outputs": [],
   "source": [
    "id_pyzx2_1011, counts_pyzx2_1011 = running_circuit(qc_pyzx_o2_1011, backend)\n",
    "print(id_pyzx2_1011)"
   ]
  },
  {
   "cell_type": "code",
   "execution_count": null,
   "metadata": {},
   "outputs": [],
   "source": [
    "#id_pyzx2_1011=''\n",
    "job = backend.retrieve_job(id_pyzx2_1011)\n",
    "result_pyzx2_1011= job.result()\n",
    "counts_pyzx2_1011= result_pyzx2_1011.get_counts()\n",
    "\n",
    "print(counts_pyzx2_1011)"
   ]
  },
  {
   "cell_type": "code",
   "execution_count": null,
   "metadata": {},
   "outputs": [],
   "source": [
    "leg = ['simulation', 'run in real device','optimization with compiler PyZX','optimization with compiler PyZX and 2', 'optimization with compiler PyZX and 3']\n",
    "colors = ['#061727', '#003a6d', '#1192e8','#82cfff','#e5f6ff']\n",
    "plot_histogram([counts_sim_1011, counts_dev_1011, counts_pyzx_1011, counts_pyzx2_1011, counts_pyzx3_1011], target_string='10100', number_to_keep=1,color=colors, legend = leg, figsize=(11, 5), title='intup |101> with target input |1>')"
   ]
  },
  {
   "cell_type": "code",
   "execution_count": null,
   "metadata": {},
   "outputs": [],
   "source": [
    "job_pyzx_2_1011 = backend.retrieve_job(id_pyzx2_1011)\n",
    "result_pyzx2_1011= job_pyzx_2_1011.result()"
   ]
  },
  {
   "cell_type": "code",
   "execution_count": null,
   "metadata": {},
   "outputs": [],
   "source": [
    "mitigated_results_py2_1011 = meas_filter.apply(result_pyzx2_1011)\n",
    "mitigated_counts_py2_1011 = mitigated_results_py2_1011.get_counts(0)"
   ]
  },
  {
   "cell_type": "code",
   "execution_count": null,
   "metadata": {},
   "outputs": [],
   "source": [
    "print(mitigated_counts_py2_1011)"
   ]
  },
  {
   "cell_type": "code",
   "execution_count": null,
   "metadata": {},
   "outputs": [],
   "source": [
    "job_pyzx_1011 = backend.retrieve_job(id_pyzx_1011)\n",
    "result_pyzx_1011= job_pyzx_1011.result()"
   ]
  },
  {
   "cell_type": "code",
   "execution_count": null,
   "metadata": {},
   "outputs": [],
   "source": [
    "mitigated_results_py_1011 = meas_filter.apply(result_pyzx_1011)\n",
    "mitigated_counts_py_1011 = mitigated_results_py_1011.get_counts(0)"
   ]
  },
  {
   "cell_type": "code",
   "execution_count": null,
   "metadata": {},
   "outputs": [],
   "source": [
    "print(mitigated_counts_py_1011)"
   ]
  },
  {
   "cell_type": "code",
   "execution_count": null,
   "metadata": {},
   "outputs": [],
   "source": [
    "leg = ['simulation', 'run in real device','optimization with compiler PyZX', 'mittigation', 'optimization with compiler PyZX and 2', 'mittigation 2']\n",
    "colors = ['#061727', '#003a6d', '#00539a', '#1192e8','#33b1ff','#82cfff']\n",
    "plot_histogram([counts_sim_1011, counts_dev_1011, counts_pyzx_1011,mitigated_counts_py_1011, counts_pyzx2_1011,mitigated_counts_py2_1011 ], target_string='10100', number_to_keep = 1, color=colors, legend = leg, figsize=(11, 5), title='intup |101> with target input |1>')"
   ]
  },
  {
   "cell_type": "code",
   "execution_count": null,
   "metadata": {},
   "outputs": [],
   "source": [
    "counts_sim_2 = sum_right(0, counts_sim_1011)\n",
    "print(counts_sim_2)"
   ]
  },
  {
   "cell_type": "code",
   "execution_count": null,
   "metadata": {},
   "outputs": [],
   "source": [
    "counts_dev_2 = sum_right(0, counts_dev_1011)\n",
    "print(counts_dev_2)"
   ]
  },
  {
   "cell_type": "code",
   "execution_count": null,
   "metadata": {},
   "outputs": [],
   "source": [
    "counts_pyzx_2 = sum_right(0, counts_pyzx_1011)\n",
    "print(counts_pyzx_2)"
   ]
  },
  {
   "cell_type": "code",
   "execution_count": null,
   "metadata": {},
   "outputs": [],
   "source": [
    "counts_pyzx2_2 = sum_right(0, counts_pyzx2_1011)\n",
    "print(counts_pyzx2_2)"
   ]
  },
  {
   "cell_type": "code",
   "execution_count": null,
   "metadata": {},
   "outputs": [],
   "source": [
    "counts_pyzx3_2 = sum_right(0, counts_pyzx3_1011)\n",
    "print(counts_pyzx3_2)"
   ]
  },
  {
   "cell_type": "code",
   "execution_count": null,
   "metadata": {},
   "outputs": [],
   "source": [
    "mitigated_counts_2= sum_right(0, mitigated_counts_py_1011)\n",
    "print(mitigated_counts_2)"
   ]
  },
  {
   "cell_type": "code",
   "execution_count": null,
   "metadata": {},
   "outputs": [],
   "source": [
    "mitigated_counts_2_2= sum_right(0, mitigated_counts_py2_1011)\n",
    "print(mitigated_counts_2_2)"
   ]
  },
  {
   "cell_type": "code",
   "execution_count": null,
   "metadata": {
    "scrolled": true
   },
   "outputs": [],
   "source": [
    "leg = ['simulation', 'run in real device', 'optimization with compiter PyZX and mittigation']\n",
    "colors = ['#061727', '#003a6d', '#1192e8']\n",
    "plot_histogram([counts_sim_2, counts_dev_2,  mitigated_counts_2], title='input=|1011>', color=colors, legend = leg, figsize=(5, 5))"
   ]
  },
  {
   "cell_type": "markdown",
   "metadata": {},
   "source": [
    "#### other important simulations "
   ]
  },
  {
   "cell_type": "code",
   "execution_count": null,
   "metadata": {},
   "outputs": [],
   "source": [
    "qubit_controls = 3\n",
    "qubit_target = 1\n",
    "\n",
    "total_qubits = 3+1\n",
    "\n",
    "number_inputs = 2**total_qubits\n",
    "\n",
    "data = np.arange(number_inputs)\n",
    "data_input=[]\n",
    "\n",
    "for i in data:\n",
    "    data_input.append(bin(i)[2:].zfill(total_qubits))\n",
    "\n",
    "print(data_input)"
   ]
  },
  {
   "cell_type": "code",
   "execution_count": null,
   "metadata": {},
   "outputs": [],
   "source": [
    "for i in data_input:\n",
    "    print('init circuit: ', i[::-1])\n",
    "    count=0\n",
    "    qcircuit = QuantumCircuit(qr,cr)\n",
    "    for y in i:\n",
    "        if y == '1':\n",
    "            qcircuit.x(qr[count+1])\n",
    "        count = count+1\n",
    "    qcircuit = qcircuit + qc_m\n",
    "    id_temp, counts_temp = running_circuit(qcircuit, backend_sim)\n",
    "    print('output:       ', list(counts_temp.keys())[0][:-1])"
   ]
  },
  {
   "cell_type": "code",
   "execution_count": null,
   "metadata": {},
   "outputs": [],
   "source": [
    "for i in data_input:\n",
    "    print('init circuit: ', i[::-1])\n",
    "    count=0\n",
    "    qcircuit = QuantumCircuit(qr,cr)\n",
    "    for y in i:\n",
    "        if y == '1':\n",
    "            qcircuit.x(qr[count+1])\n",
    "        count = count+1\n",
    "    qcircuit = qcircuit + qc_pyzx\n",
    "    id_temp, counts_temp = running_circuit(qcircuit, backend_sim)\n",
    "    print('output:       ', list(counts_temp.keys())[0][:-1])"
   ]
  },
  {
   "cell_type": "markdown",
   "metadata": {},
   "source": [
    "[back to top](#index)"
   ]
  }
 ],
 "metadata": {
  "kernelspec": {
   "display_name": "Python 3",
   "language": "python",
   "name": "python3"
  },
  "language_info": {
   "codemirror_mode": {
    "name": "ipython",
    "version": 3
   },
   "file_extension": ".py",
   "mimetype": "text/x-python",
   "name": "python",
   "nbconvert_exporter": "python",
   "pygments_lexer": "ipython3",
   "version": "3.6.9"
  }
 },
 "nbformat": 4,
 "nbformat_minor": 2
}
